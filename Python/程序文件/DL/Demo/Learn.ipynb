{
 "cells": [
  {
   "cell_type": "markdown",
   "metadata": {},
   "source": [
    "- 怎么把两个tensor拼接在一起？\n",
    "- 怎么对tensor差值？\n",
    "- 怎么让某个tensor不回传梯度？\n",
    "- 怎么把一个tensor转换成numpy？\n",
    "- 怎么得到tensor中的最大最小值？\n",
    "- 怎么得到tensor中最大最小值的索引？\n",
    "- 怎么得到tensor中的非零元素？\n",
    "- 怎么把tensor变成one-hot编码？\n",
    "- 怎么把tensor变成整数？\n",
    "- 怎么把tensor变成浮点数？\n",
    "- 怎么在tensor的某一维度上求和求平均值？\n",
    "- 怎么在tensor的某一维度上求最大最小值？\n",
    "- 怎么在tensor的某一维度上求累积和？\n",
    "- ......"
   ]
  },
  {
   "cell_type": "code",
   "execution_count": null,
   "metadata": {},
   "outputs": [],
   "source": [
    "import torch"
   ]
  }
 ],
 "metadata": {
  "kernelspec": {
   "display_name": "AGI",
   "language": "python",
   "name": "python3"
  },
  "language_info": {
   "name": "python",
   "version": "3.8.18"
  }
 },
 "nbformat": 4,
 "nbformat_minor": 2
}
