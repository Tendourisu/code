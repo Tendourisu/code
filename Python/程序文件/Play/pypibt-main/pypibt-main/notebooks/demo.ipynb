{
 "cells": [
  {
   "cell_type": "code",
   "execution_count": 1,
   "id": "d5ca6ebe-6a10-4c03-8784-7ef76935eeb8",
   "metadata": {
    "tags": []
   },
   "outputs": [],
   "source": [
    "%load_ext autoreload\n",
    "%autoreload 2"
   ]
  },
  {
   "cell_type": "code",
   "execution_count": 2,
   "id": "81e5727c-7c8a-4202-9ca6-70216f958a5f",
   "metadata": {
    "tags": []
   },
   "outputs": [],
   "source": [
    "from pypibt import (\n",
    "    PIBT,\n",
    "    get_grid,\n",
    "    get_scenario,\n",
    "    is_valid_mapf_solution,\n",
    "    save_configs_for_visualizer,\n",
    ")"
   ]
  },
  {
   "cell_type": "code",
   "execution_count": 3,
   "id": "a0dd5c06-ed82-4cec-9525-95774aade340",
   "metadata": {},
   "outputs": [],
   "source": [
    "# define problems\n",
    "\n",
    "map_file = \"../assets/random-32-32-10.map\"\n",
    "scen_file = \"../assets/random-32-32-10-random-1.scen\"\n",
    "N = 200\n",
    "\n",
    "grid = get_grid(map_file)\n",
    "starts, goals = get_scenario(scen_file, N)"
   ]
  },
  {
   "cell_type": "code",
   "execution_count": 4,
   "id": "36804ce7-8b0c-4333-8b1b-8b681a98be3f",
   "metadata": {
    "tags": []
   },
   "outputs": [
    {
     "name": "stdout",
     "output_type": "stream",
     "text": [
      "CPU times: user 161 ms, sys: 4.62 ms, total: 166 ms\n",
      "Wall time: 165 ms\n"
     ]
    }
   ],
   "source": [
    "%%time\n",
    "\n",
    "# solve MAPF\n",
    "pibt = PIBT(grid, starts, goals)\n",
    "configs = pibt.run()"
   ]
  },
  {
   "cell_type": "code",
   "execution_count": 5,
   "id": "6c28d4eb-4ef1-4561-bed1-86294eb66c41",
   "metadata": {
    "tags": []
   },
   "outputs": [
    {
     "name": "stdout",
     "output_type": "stream",
     "text": [
      "validation: True\n"
     ]
    }
   ],
   "source": [
    "# validation: True -> feasible\n",
    "print(f\"validation: {is_valid_mapf_solution(grid, starts, goals, configs)}\")\n",
    "\n",
    "# save result\n",
    "save_configs_for_visualizer(configs, \"./local/tmp.txt\")"
   ]
  },
  {
   "cell_type": "code",
   "execution_count": 6,
   "id": "24208ea0-21ea-4a02-83fc-3d1b3e428e45",
   "metadata": {
    "tags": []
   },
   "outputs": [
    {
     "name": "stdout",
     "output_type": "stream",
     "text": [
      "keys for visualizer\n",
      "- p : play or pause\n",
      "- l : loop or not\n",
      "- r : reset\n",
      "- v : show virtual line to goals\n",
      "- f : show agent & node id\n",
      "- g : show goals\n",
      "- right : progress\n",
      "- left  : back\n",
      "- up    : speed up\n",
      "- down  : speed down\n",
      "- space : screenshot (saved in Desktop)\n",
      "- esc : terminate\n"
     ]
    }
   ],
   "source": [
    "# visualize, do not forget to install https://github.com/Kei18/mapf-visualizer\n",
    "!mapf-visualizer ../assets/random-32-32-10.map ./local/tmp.txt"
   ]
  },
  {
   "cell_type": "code",
   "execution_count": null,
   "id": "4958b6da-b1cd-4aa8-b0fd-e94d9567f952",
   "metadata": {},
   "outputs": [],
   "source": []
  }
 ],
 "metadata": {
  "kernelspec": {
   "display_name": "Python 3 (ipykernel)",
   "language": "python",
   "name": "python3"
  },
  "language_info": {
   "codemirror_mode": {
    "name": "ipython",
    "version": 3
   },
   "file_extension": ".py",
   "mimetype": "text/x-python",
   "name": "python",
   "nbconvert_exporter": "python",
   "pygments_lexer": "ipython3",
   "version": "3.11.2"
  }
 },
 "nbformat": 4,
 "nbformat_minor": 5
}
